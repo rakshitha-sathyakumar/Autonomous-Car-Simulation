{
  "nbformat": 4,
  "nbformat_minor": 0,
  "metadata": {
    "colab": {
      "name": "sentiment_analysis_lstm.ipynb",
      "provenance": [],
      "include_colab_link": true
    },
    "kernelspec": {
      "name": "python3",
      "display_name": "Python 3"
    }
  },
  "cells": [
    {
      "cell_type": "markdown",
      "metadata": {
        "id": "view-in-github",
        "colab_type": "text"
      },
      "source": [
        "<a href=\"https://colab.research.google.com/github/rakshitha-sathyakumar/Autonomous-Car-Simulation/blob/master/sentiment-analysis/sentiment_analysis_lstm.ipynb\" target=\"_parent\"><img src=\"https://colab.research.google.com/assets/colab-badge.svg\" alt=\"Open In Colab\"/></a>"
      ]
    },
    {
      "cell_type": "code",
      "metadata": {
        "id": "8Yq2poNb-F1D",
        "colab_type": "code",
        "colab": {
          "base_uri": "https://localhost:8080/",
          "height": 122
        },
        "outputId": "86523c06-c47b-419c-ddae-c687b3397c4a"
      },
      "source": [
        "from google.colab import drive\n",
        "drive.mount('/content/drive')"
      ],
      "execution_count": null,
      "outputs": [
        {
          "output_type": "stream",
          "text": [
            "Go to this URL in a browser: https://accounts.google.com/o/oauth2/auth?client_id=947318989803-6bn6qk8qdgf4n4g3pfee6491hc0brc4i.apps.googleusercontent.com&redirect_uri=urn%3aietf%3awg%3aoauth%3a2.0%3aoob&scope=email%20https%3a%2f%2fwww.googleapis.com%2fauth%2fdocs.test%20https%3a%2f%2fwww.googleapis.com%2fauth%2fdrive%20https%3a%2f%2fwww.googleapis.com%2fauth%2fdrive.photos.readonly%20https%3a%2f%2fwww.googleapis.com%2fauth%2fpeopleapi.readonly&response_type=code\n",
            "\n",
            "Enter your authorization code:\n",
            "··········\n",
            "Mounted at /content/drive\n"
          ],
          "name": "stdout"
        }
      ]
    },
    {
      "cell_type": "code",
      "metadata": {
        "id": "mDsiAblZ-MdS",
        "colab_type": "code",
        "colab": {}
      },
      "source": [
        "import os\n",
        "import tensorflow\n",
        "os.environ['KERAS_BACKEND'] = 'tensorflow'\n",
        "\n",
        "import keras\n",
        "from keras.models import Sequential\n",
        "from keras.layers import Dense, Embedding, LSTM, SpatialDropout1D\n",
        "from keras.preprocessing.text import Tokenizer\n",
        "from keras.preprocessing.sequence import pad_sequences\n",
        "import logging\n",
        "import pandas as pd\n",
        "import numpy as np\n",
        "from sklearn.model_selection import train_test_split\n",
        "from sklearn import preprocessing\n",
        "import seaborn as sns\n",
        "import matplotlib.pyplot as plt"
      ],
      "execution_count": null,
      "outputs": []
    },
    {
      "cell_type": "code",
      "metadata": {
        "id": "lLtxqDz1-fRj",
        "colab_type": "code",
        "colab": {}
      },
      "source": [
        "logging.basicConfig(format='%(asctime)s : %(levelname) s : %(message)s', level=logging.INFO)\n",
        "\n",
        "#Set random seed\n",
        "np.random.seed(24)"
      ],
      "execution_count": null,
      "outputs": []
    },
    {
      "cell_type": "code",
      "metadata": {
        "id": "zcAsOiML-i-E",
        "colab_type": "code",
        "colab": {}
      },
      "source": [
        "df_vader = pd.read_csv(\"/content/drive/My Drive/256 project/Data/vader_sentimant.csv\")"
      ],
      "execution_count": null,
      "outputs": []
    },
    {
      "cell_type": "code",
      "metadata": {
        "id": "-XKRtfJH-svn",
        "colab_type": "code",
        "colab": {
          "base_uri": "https://localhost:8080/",
          "height": 419
        },
        "outputId": "b8710e07-8721-48ef-c66a-0bd5c1266b9c"
      },
      "source": [
        "df_vader"
      ],
      "execution_count": null,
      "outputs": [
        {
          "output_type": "execute_result",
          "data": {
            "text/html": [
              "<div>\n",
              "<style scoped>\n",
              "    .dataframe tbody tr th:only-of-type {\n",
              "        vertical-align: middle;\n",
              "    }\n",
              "\n",
              "    .dataframe tbody tr th {\n",
              "        vertical-align: top;\n",
              "    }\n",
              "\n",
              "    .dataframe thead th {\n",
              "        text-align: right;\n",
              "    }\n",
              "</style>\n",
              "<table border=\"1\" class=\"dataframe\">\n",
              "  <thead>\n",
              "    <tr style=\"text-align: right;\">\n",
              "      <th></th>\n",
              "      <th>Unnamed: 0</th>\n",
              "      <th>clean_text</th>\n",
              "      <th>Compound</th>\n",
              "      <th>Positive</th>\n",
              "      <th>Negative</th>\n",
              "      <th>Neutral</th>\n",
              "      <th>Analysis</th>\n",
              "    </tr>\n",
              "  </thead>\n",
              "  <tbody>\n",
              "    <tr>\n",
              "      <th>0</th>\n",
              "      <td>0</td>\n",
              "      <td>accounting software reduce impact coronavirus ...</td>\n",
              "      <td>0.0000</td>\n",
              "      <td>0.000</td>\n",
              "      <td>0.000</td>\n",
              "      <td>1.000</td>\n",
              "      <td>Neutral</td>\n",
              "    </tr>\n",
              "    <tr>\n",
              "      <th>1</th>\n",
              "      <td>1</td>\n",
              "      <td>people know behave covid19 canadian perspectiv...</td>\n",
              "      <td>0.0000</td>\n",
              "      <td>0.000</td>\n",
              "      <td>0.000</td>\n",
              "      <td>1.000</td>\n",
              "      <td>Neutral</td>\n",
              "    </tr>\n",
              "    <tr>\n",
              "      <th>2</th>\n",
              "      <td>2</td>\n",
              "      <td>rt  silver lining amidst chaoswe poorvikamobil...</td>\n",
              "      <td>0.7003</td>\n",
              "      <td>0.326</td>\n",
              "      <td>0.000</td>\n",
              "      <td>0.674</td>\n",
              "      <td>Positive</td>\n",
              "    </tr>\n",
              "    <tr>\n",
              "      <th>3</th>\n",
              "      <td>3</td>\n",
              "      <td>rt  harun cumen balikesir prison couldnt see k...</td>\n",
              "      <td>-0.5106</td>\n",
              "      <td>0.000</td>\n",
              "      <td>0.171</td>\n",
              "      <td>0.829</td>\n",
              "      <td>Negative</td>\n",
              "    </tr>\n",
              "    <tr>\n",
              "      <th>4</th>\n",
              "      <td>4</td>\n",
              "      <td>oximeters wont steal fingerprints turning tech...</td>\n",
              "      <td>0.7669</td>\n",
              "      <td>0.424</td>\n",
              "      <td>0.000</td>\n",
              "      <td>0.576</td>\n",
              "      <td>Positive</td>\n",
              "    </tr>\n",
              "    <tr>\n",
              "      <th>...</th>\n",
              "      <td>...</td>\n",
              "      <td>...</td>\n",
              "      <td>...</td>\n",
              "      <td>...</td>\n",
              "      <td>...</td>\n",
              "      <td>...</td>\n",
              "      <td>...</td>\n",
              "    </tr>\n",
              "    <tr>\n",
              "      <th>29143</th>\n",
              "      <td>29143</td>\n",
              "      <td>rt  emerging technologies tracking covid19 pan...</td>\n",
              "      <td>0.0000</td>\n",
              "      <td>0.000</td>\n",
              "      <td>0.000</td>\n",
              "      <td>1.000</td>\n",
              "      <td>Neutral</td>\n",
              "    </tr>\n",
              "    <tr>\n",
              "      <th>29144</th>\n",
              "      <td>29144</td>\n",
              "      <td>rt  emerging technologies tracking covid19 pan...</td>\n",
              "      <td>0.0000</td>\n",
              "      <td>0.000</td>\n",
              "      <td>0.000</td>\n",
              "      <td>1.000</td>\n",
              "      <td>Neutral</td>\n",
              "    </tr>\n",
              "    <tr>\n",
              "      <th>29145</th>\n",
              "      <td>29145</td>\n",
              "      <td>rt  emerging technologies tracking covid19 pan...</td>\n",
              "      <td>0.0000</td>\n",
              "      <td>0.000</td>\n",
              "      <td>0.000</td>\n",
              "      <td>1.000</td>\n",
              "      <td>Neutral</td>\n",
              "    </tr>\n",
              "    <tr>\n",
              "      <th>29146</th>\n",
              "      <td>29146</td>\n",
              "      <td>wow spain amp france dont new daily cases that...</td>\n",
              "      <td>0.8979</td>\n",
              "      <td>0.476</td>\n",
              "      <td>0.000</td>\n",
              "      <td>0.524</td>\n",
              "      <td>Positive</td>\n",
              "    </tr>\n",
              "    <tr>\n",
              "      <th>29147</th>\n",
              "      <td>29147</td>\n",
              "      <td>g  thought couldnt get unbelievable covid19</td>\n",
              "      <td>-0.1511</td>\n",
              "      <td>0.000</td>\n",
              "      <td>0.242</td>\n",
              "      <td>0.758</td>\n",
              "      <td>Negative</td>\n",
              "    </tr>\n",
              "  </tbody>\n",
              "</table>\n",
              "<p>29148 rows × 7 columns</p>\n",
              "</div>"
            ],
            "text/plain": [
              "       Unnamed: 0  ...  Analysis\n",
              "0               0  ...   Neutral\n",
              "1               1  ...   Neutral\n",
              "2               2  ...  Positive\n",
              "3               3  ...  Negative\n",
              "4               4  ...  Positive\n",
              "...           ...  ...       ...\n",
              "29143       29143  ...   Neutral\n",
              "29144       29144  ...   Neutral\n",
              "29145       29145  ...   Neutral\n",
              "29146       29146  ...  Positive\n",
              "29147       29147  ...  Negative\n",
              "\n",
              "[29148 rows x 7 columns]"
            ]
          },
          "metadata": {
            "tags": []
          },
          "execution_count": 14
        }
      ]
    },
    {
      "cell_type": "code",
      "metadata": {
        "id": "a1b1geJN-t_z",
        "colab_type": "code",
        "colab": {
          "base_uri": "https://localhost:8080/",
          "height": 221
        },
        "outputId": "9a69402e-d16a-420b-aa8a-4afa31d5de75"
      },
      "source": [
        "le = preprocessing.LabelEncoder()\n",
        "df_vader['Sentiment'] = le.fit_transform(df_vader['Analysis'])\n",
        "df_vader['Sentiment']"
      ],
      "execution_count": null,
      "outputs": [
        {
          "output_type": "execute_result",
          "data": {
            "text/plain": [
              "0        1\n",
              "1        1\n",
              "2        2\n",
              "3        0\n",
              "4        2\n",
              "        ..\n",
              "29143    1\n",
              "29144    1\n",
              "29145    1\n",
              "29146    2\n",
              "29147    0\n",
              "Name: Sentiment, Length: 29148, dtype: int64"
            ]
          },
          "metadata": {
            "tags": []
          },
          "execution_count": 15
        }
      ]
    },
    {
      "cell_type": "code",
      "metadata": {
        "id": "rf67Xe---x2o",
        "colab_type": "code",
        "colab": {
          "base_uri": "https://localhost:8080/",
          "height": 204
        },
        "outputId": "5a505801-0781-4669-e692-3d11172f95e8"
      },
      "source": [
        "df_vader.head()"
      ],
      "execution_count": null,
      "outputs": [
        {
          "output_type": "execute_result",
          "data": {
            "text/html": [
              "<div>\n",
              "<style scoped>\n",
              "    .dataframe tbody tr th:only-of-type {\n",
              "        vertical-align: middle;\n",
              "    }\n",
              "\n",
              "    .dataframe tbody tr th {\n",
              "        vertical-align: top;\n",
              "    }\n",
              "\n",
              "    .dataframe thead th {\n",
              "        text-align: right;\n",
              "    }\n",
              "</style>\n",
              "<table border=\"1\" class=\"dataframe\">\n",
              "  <thead>\n",
              "    <tr style=\"text-align: right;\">\n",
              "      <th></th>\n",
              "      <th>Unnamed: 0</th>\n",
              "      <th>clean_text</th>\n",
              "      <th>Compound</th>\n",
              "      <th>Positive</th>\n",
              "      <th>Negative</th>\n",
              "      <th>Neutral</th>\n",
              "      <th>Analysis</th>\n",
              "      <th>Sentiment</th>\n",
              "    </tr>\n",
              "  </thead>\n",
              "  <tbody>\n",
              "    <tr>\n",
              "      <th>0</th>\n",
              "      <td>0</td>\n",
              "      <td>accounting software reduce impact coronavirus ...</td>\n",
              "      <td>0.0000</td>\n",
              "      <td>0.000</td>\n",
              "      <td>0.000</td>\n",
              "      <td>1.000</td>\n",
              "      <td>Neutral</td>\n",
              "      <td>1</td>\n",
              "    </tr>\n",
              "    <tr>\n",
              "      <th>1</th>\n",
              "      <td>1</td>\n",
              "      <td>people know behave covid19 canadian perspectiv...</td>\n",
              "      <td>0.0000</td>\n",
              "      <td>0.000</td>\n",
              "      <td>0.000</td>\n",
              "      <td>1.000</td>\n",
              "      <td>Neutral</td>\n",
              "      <td>1</td>\n",
              "    </tr>\n",
              "    <tr>\n",
              "      <th>2</th>\n",
              "      <td>2</td>\n",
              "      <td>rt  silver lining amidst chaoswe poorvikamobil...</td>\n",
              "      <td>0.7003</td>\n",
              "      <td>0.326</td>\n",
              "      <td>0.000</td>\n",
              "      <td>0.674</td>\n",
              "      <td>Positive</td>\n",
              "      <td>2</td>\n",
              "    </tr>\n",
              "    <tr>\n",
              "      <th>3</th>\n",
              "      <td>3</td>\n",
              "      <td>rt  harun cumen balikesir prison couldnt see k...</td>\n",
              "      <td>-0.5106</td>\n",
              "      <td>0.000</td>\n",
              "      <td>0.171</td>\n",
              "      <td>0.829</td>\n",
              "      <td>Negative</td>\n",
              "      <td>0</td>\n",
              "    </tr>\n",
              "    <tr>\n",
              "      <th>4</th>\n",
              "      <td>4</td>\n",
              "      <td>oximeters wont steal fingerprints turning tech...</td>\n",
              "      <td>0.7669</td>\n",
              "      <td>0.424</td>\n",
              "      <td>0.000</td>\n",
              "      <td>0.576</td>\n",
              "      <td>Positive</td>\n",
              "      <td>2</td>\n",
              "    </tr>\n",
              "  </tbody>\n",
              "</table>\n",
              "</div>"
            ],
            "text/plain": [
              "   Unnamed: 0  ... Sentiment\n",
              "0           0  ...         1\n",
              "1           1  ...         1\n",
              "2           2  ...         2\n",
              "3           3  ...         0\n",
              "4           4  ...         2\n",
              "\n",
              "[5 rows x 8 columns]"
            ]
          },
          "metadata": {
            "tags": []
          },
          "execution_count": 16
        }
      ]
    },
    {
      "cell_type": "code",
      "metadata": {
        "id": "sCCNmMyM-6jh",
        "colab_type": "code",
        "colab": {
          "base_uri": "https://localhost:8080/",
          "height": 34
        },
        "outputId": "adc86105-a377-43fe-c5bb-c3bb9bf29134"
      },
      "source": [
        "np.unique(df_vader.Analysis)"
      ],
      "execution_count": null,
      "outputs": [
        {
          "output_type": "execute_result",
          "data": {
            "text/plain": [
              "array(['Negative', 'Neutral', 'Positive'], dtype=object)"
            ]
          },
          "metadata": {
            "tags": []
          },
          "execution_count": 17
        }
      ]
    },
    {
      "cell_type": "code",
      "metadata": {
        "id": "xLEEBby0--Ox",
        "colab_type": "code",
        "colab": {
          "base_uri": "https://localhost:8080/",
          "height": 85
        },
        "outputId": "b34db266-3c27-4f2c-dc48-8d4cbec63af5"
      },
      "source": [
        "df_vader.Analysis.value_counts()"
      ],
      "execution_count": null,
      "outputs": [
        {
          "output_type": "execute_result",
          "data": {
            "text/plain": [
              "Neutral     11958\n",
              "Positive    10264\n",
              "Negative     6926\n",
              "Name: Analysis, dtype: int64"
            ]
          },
          "metadata": {
            "tags": []
          },
          "execution_count": 18
        }
      ]
    },
    {
      "cell_type": "code",
      "metadata": {
        "id": "CjQFODj1_B6C",
        "colab_type": "code",
        "colab": {
          "base_uri": "https://localhost:8080/",
          "height": 68
        },
        "outputId": "eb4cdcb0-cba3-4816-8aaa-2582983a1292"
      },
      "source": [
        "df_vader.columns"
      ],
      "execution_count": null,
      "outputs": [
        {
          "output_type": "execute_result",
          "data": {
            "text/plain": [
              "Index(['Unnamed: 0', 'clean_text', 'Compound', 'Positive', 'Negative',\n",
              "       'Neutral', 'Analysis', 'Sentiment'],\n",
              "      dtype='object')"
            ]
          },
          "metadata": {
            "tags": []
          },
          "execution_count": 19
        }
      ]
    },
    {
      "cell_type": "code",
      "metadata": {
        "id": "4AAPQBBc_Dcz",
        "colab_type": "code",
        "colab": {}
      },
      "source": [
        "to_drop = ['Unnamed: 0', 'Compound', 'Positive', 'Negative', 'Neutral', 'Analysis']\n",
        "df_vader = df_vader.drop(to_drop, axis =1)"
      ],
      "execution_count": null,
      "outputs": []
    },
    {
      "cell_type": "code",
      "metadata": {
        "id": "JzrnenTX_Fnh",
        "colab_type": "code",
        "colab": {
          "base_uri": "https://localhost:8080/",
          "height": 221
        },
        "outputId": "e9005aeb-d708-4cf8-bf9a-c04be69a93af"
      },
      "source": [
        "X_train, X_test, y_train, y_test = train_test_split(df_vader['clean_text'], df_vader['Sentiment'], test_size = 0.20, random_state = 100)\n",
        "train_dataset = pd.DataFrame({'Tweet': X_train,'Sentiment': y_train})\n",
        "test_dataset = pd.DataFrame({'Tweet': X_test,'Sentiment': y_test})\n",
        "print(\"Number of positive, negative and neutral sentiment values in train set\")\n",
        "print(train_dataset['Sentiment'].value_counts())\n",
        "print(\"**************************************************\")\n",
        "print(\"**************************************************\")\n",
        "print(\"NNumber of positive, negative and neutral sentiment values in test set\")\n",
        "print(test_dataset['Sentiment'].value_counts())"
      ],
      "execution_count": null,
      "outputs": [
        {
          "output_type": "stream",
          "text": [
            "Number of positive, negative and neutral sentiment values in train set\n",
            "1    9535\n",
            "2    8266\n",
            "0    5517\n",
            "Name: Sentiment, dtype: int64\n",
            "**************************************************\n",
            "**************************************************\n",
            "NNumber of positive, negative and neutral sentiment values in test set\n",
            "1    2423\n",
            "2    1998\n",
            "0    1409\n",
            "Name: Sentiment, dtype: int64\n"
          ],
          "name": "stdout"
        }
      ]
    },
    {
      "cell_type": "code",
      "metadata": {
        "id": "QWV1I_0k_Lv3",
        "colab_type": "code",
        "colab": {}
      },
      "source": [
        "tokenizer = Tokenizer(num_words = 2000, split = ' ')\n",
        "tokenizer.fit_on_texts(train_dataset['Tweet'].astype(str).values)\n",
        "train_tweets = tokenizer.texts_to_sequences(train_dataset['Tweet'].astype(str).values)\n",
        "max_len = max([len(i) for i in train_tweets])\n",
        "train_tweets = pad_sequences(train_tweets, maxlen = max_len)\n",
        "test_tweets = tokenizer.texts_to_sequences(test_dataset['Tweet'].astype(str).values)\n",
        "test_tweets = pad_sequences(test_tweets, maxlen = max_len)"
      ],
      "execution_count": null,
      "outputs": []
    },
    {
      "cell_type": "code",
      "metadata": {
        "id": "lGAiAf8N_N1M",
        "colab_type": "code",
        "colab": {
          "base_uri": "https://localhost:8080/",
          "height": 289
        },
        "outputId": "a0617312-3cf6-4bf7-c52a-cc5b5ec6e804"
      },
      "source": [
        "model = Sequential()\n",
        "model.add(Embedding(2000, 128, input_length = train_tweets.shape[1]))\n",
        "model.add(SpatialDropout1D(0.4))\n",
        "model.add(LSTM(256, dropout = 0.2))\n",
        "model.add(Dense(3, activation = 'softmax'))\n",
        "model.compile(loss = 'categorical_crossentropy', optimizer = 'adam', metrics = ['accuracy'])\n",
        "model.summary()"
      ],
      "execution_count": null,
      "outputs": [
        {
          "output_type": "stream",
          "text": [
            "Model: \"sequential\"\n",
            "_________________________________________________________________\n",
            "Layer (type)                 Output Shape              Param #   \n",
            "=================================================================\n",
            "embedding (Embedding)        (None, 18, 128)           256000    \n",
            "_________________________________________________________________\n",
            "spatial_dropout1d (SpatialDr (None, 18, 128)           0         \n",
            "_________________________________________________________________\n",
            "lstm (LSTM)                  (None, 256)               394240    \n",
            "_________________________________________________________________\n",
            "dense (Dense)                (None, 3)                 771       \n",
            "=================================================================\n",
            "Total params: 651,011\n",
            "Trainable params: 651,011\n",
            "Non-trainable params: 0\n",
            "_________________________________________________________________\n"
          ],
          "name": "stdout"
        }
      ]
    },
    {
      "cell_type": "code",
      "metadata": {
        "id": "Rfo1icm-_-9F",
        "colab_type": "code",
        "colab": {
          "base_uri": "https://localhost:8080/",
          "height": 697
        },
        "outputId": "fe84f30f-7cf4-44c1-85fd-f0c7eb4652dd"
      },
      "source": [
        "history = model.fit(train_tweets, pd.get_dummies(train_dataset['Sentiment']).values, epochs = 20, batch_size = 128, validation_split = 0.2)"
      ],
      "execution_count": null,
      "outputs": [
        {
          "output_type": "stream",
          "text": [
            "Epoch 1/20\n",
            "146/146 [==============================] - 26s 178ms/step - loss: 0.1041 - accuracy: 0.9617 - val_loss: 0.5285 - val_accuracy: 0.8795\n",
            "Epoch 2/20\n",
            "146/146 [==============================] - 26s 179ms/step - loss: 0.0994 - accuracy: 0.9636 - val_loss: 0.5613 - val_accuracy: 0.8823\n",
            "Epoch 3/20\n",
            "146/146 [==============================] - 26s 180ms/step - loss: 0.0921 - accuracy: 0.9660 - val_loss: 0.5634 - val_accuracy: 0.8784\n",
            "Epoch 4/20\n",
            "146/146 [==============================] - 26s 181ms/step - loss: 0.0891 - accuracy: 0.9668 - val_loss: 0.5708 - val_accuracy: 0.8789\n",
            "Epoch 5/20\n",
            "146/146 [==============================] - 26s 177ms/step - loss: 0.0840 - accuracy: 0.9696 - val_loss: 0.6030 - val_accuracy: 0.8829\n",
            "Epoch 6/20\n",
            "146/146 [==============================] - 26s 179ms/step - loss: 0.0813 - accuracy: 0.9705 - val_loss: 0.6148 - val_accuracy: 0.8819\n",
            "Epoch 7/20\n",
            "146/146 [==============================] - 26s 177ms/step - loss: 0.0770 - accuracy: 0.9723 - val_loss: 0.6272 - val_accuracy: 0.8849\n",
            "Epoch 8/20\n",
            "146/146 [==============================] - 26s 178ms/step - loss: 0.0732 - accuracy: 0.9734 - val_loss: 0.6271 - val_accuracy: 0.8793\n",
            "Epoch 9/20\n",
            "146/146 [==============================] - 26s 177ms/step - loss: 0.0735 - accuracy: 0.9728 - val_loss: 0.6443 - val_accuracy: 0.8810\n",
            "Epoch 10/20\n",
            "146/146 [==============================] - 26s 179ms/step - loss: 0.0717 - accuracy: 0.9749 - val_loss: 0.6653 - val_accuracy: 0.8834\n",
            "Epoch 11/20\n",
            "146/146 [==============================] - 26s 179ms/step - loss: 0.0670 - accuracy: 0.9771 - val_loss: 0.6613 - val_accuracy: 0.8789\n",
            "Epoch 12/20\n",
            "146/146 [==============================] - 26s 179ms/step - loss: 0.0619 - accuracy: 0.9786 - val_loss: 0.6908 - val_accuracy: 0.8825\n",
            "Epoch 13/20\n",
            "146/146 [==============================] - 26s 179ms/step - loss: 0.0580 - accuracy: 0.9802 - val_loss: 0.7225 - val_accuracy: 0.8769\n",
            "Epoch 14/20\n",
            "146/146 [==============================] - 27s 182ms/step - loss: 0.0564 - accuracy: 0.9802 - val_loss: 0.7232 - val_accuracy: 0.8834\n",
            "Epoch 15/20\n",
            "146/146 [==============================] - 26s 181ms/step - loss: 0.0581 - accuracy: 0.9791 - val_loss: 0.7079 - val_accuracy: 0.8797\n",
            "Epoch 16/20\n",
            "146/146 [==============================] - 26s 179ms/step - loss: 0.0536 - accuracy: 0.9807 - val_loss: 0.7059 - val_accuracy: 0.8834\n",
            "Epoch 17/20\n",
            "146/146 [==============================] - 26s 181ms/step - loss: 0.0556 - accuracy: 0.9798 - val_loss: 0.6977 - val_accuracy: 0.8838\n",
            "Epoch 18/20\n",
            "146/146 [==============================] - 26s 181ms/step - loss: 0.0506 - accuracy: 0.9811 - val_loss: 0.7023 - val_accuracy: 0.8855\n",
            "Epoch 19/20\n",
            "146/146 [==============================] - 26s 178ms/step - loss: 0.0499 - accuracy: 0.9832 - val_loss: 0.7404 - val_accuracy: 0.8834\n",
            "Epoch 20/20\n",
            "146/146 [==============================] - 26s 180ms/step - loss: 0.0511 - accuracy: 0.9817 - val_loss: 0.7320 - val_accuracy: 0.8829\n"
          ],
          "name": "stdout"
        }
      ]
    },
    {
      "cell_type": "code",
      "metadata": {
        "id": "HTs3WVo-GTGZ",
        "colab_type": "code",
        "colab": {}
      },
      "source": [
        "y_pred = model.predict(test_tweets)\n",
        "y_pred = np.argmax(y_pred, axis=1)"
      ],
      "execution_count": null,
      "outputs": []
    },
    {
      "cell_type": "code",
      "metadata": {
        "id": "yeyzZwWGADTB",
        "colab_type": "code",
        "colab": {
          "base_uri": "https://localhost:8080/",
          "height": 51
        },
        "outputId": "d4bd4196-4d0c-4676-d497-20bd3b5fef01"
      },
      "source": [
        "score, accuracy = model.evaluate(test_tweets, pd.get_dummies(test_dataset['Sentiment']).values, batch_size = 128)\n",
        "print(\"Test accuracy: {}\".format(accuracy))"
      ],
      "execution_count": null,
      "outputs": [
        {
          "output_type": "stream",
          "text": [
            "46/46 [==============================] - 3s 55ms/step - loss: 0.6608 - accuracy: 0.8889\n",
            "Test accuracy: 0.888850748538971\n"
          ],
          "name": "stdout"
        }
      ]
    },
    {
      "cell_type": "code",
      "metadata": {
        "id": "_hlyK-LDHPS_",
        "colab_type": "code",
        "colab": {}
      },
      "source": [
        "class_name = ['Negative', 'Neutral', 'Positive']"
      ],
      "execution_count": null,
      "outputs": []
    },
    {
      "cell_type": "code",
      "metadata": {
        "id": "b4T1t6H6Ff6l",
        "colab_type": "code",
        "colab": {
          "base_uri": "https://localhost:8080/",
          "height": 187
        },
        "outputId": "64300e39-869d-4116-c92a-2a441ce8bd1f"
      },
      "source": [
        "from sklearn.metrics import confusion_matrix, classification_report\n",
        "print(classification_report(y_test, y_pred, target_names=class_name))"
      ],
      "execution_count": null,
      "outputs": [
        {
          "output_type": "stream",
          "text": [
            "              precision    recall  f1-score   support\n",
            "\n",
            "    Negative       0.85      0.83      0.84      1409\n",
            "     Neutral       0.91      0.91      0.91      2423\n",
            "    Positive       0.89      0.91      0.90      1998\n",
            "\n",
            "    accuracy                           0.89      5830\n",
            "   macro avg       0.88      0.88      0.88      5830\n",
            "weighted avg       0.89      0.89      0.89      5830\n",
            "\n"
          ],
          "name": "stdout"
        }
      ]
    },
    {
      "cell_type": "code",
      "metadata": {
        "id": "sEj6G0y5Co5g",
        "colab_type": "code",
        "colab": {
          "base_uri": "https://localhost:8080/",
          "height": 296
        },
        "outputId": "472bc25a-874a-426d-c5a4-ec0422c81494"
      },
      "source": [
        "def show_confusion_matrix(confusion_matrix):\n",
        "  heatmap = sns.heatmap(confusion_matrix, annot=True, fmt=\"d\", cmap=\"Blues\")\n",
        "  heatmap.xaxis.set_ticklabels(heatmap.xaxis.get_ticklabels(), ha='right')\n",
        "  heatmap.yaxis.set_ticklabels(heatmap.yaxis.get_ticklabels(), ha='right')\n",
        "  plt.xlabel('Predicted sentiment');\n",
        "  plt.ylabel('True sentiment')\n",
        "  plt.figure(figsize=(12, 8))\n",
        "cm = confusion_matrix(y_test, y_pred)\n",
        "dfvader_cm = pd.DataFrame(cm, index=class_name, columns=class_name)\n",
        "show_confusion_matrix(dfvader_cm)\n",
        "plt.savefig('/content/drive/My Drive/256 project/Figures/confusionmatrix_lstm.svg')"
      ],
      "execution_count": null,
      "outputs": [
        {
          "output_type": "display_data",
          "data": {
            "image/png": "[encoded data removed]",
            "text/plain": [
              "<Figure size 432x288 with 2 Axes>"
            ]
          },
          "metadata": {
            "tags": [],
            "needs_background": "light"
          }
        },
        {
          "output_type": "display_data",
          "data": {
            "text/plain": [
              "<Figure size 864x576 with 0 Axes>"
            ]
          },
          "metadata": {
            "tags": []
          }
        }
      ]
    },
    {
      "cell_type": "code",
      "metadata": {
        "id": "UPJWJt-iILYd",
        "colab_type": "code",
        "colab": {}
      },
      "source": [
        ""
      ],
      "execution_count": null,
      "outputs": []
    }
  ]
}